{
 "cells": [
  {
   "cell_type": "code",
   "execution_count": 1,
   "metadata": {},
   "outputs": [],
   "source": [
    "import pandas as pd\n",
    "import numpy as np\n",
    "\n",
    "data = pd.read_csv('../../../Downloads/Covid_Dataset.csv')"
   ]
  },
  {
   "cell_type": "code",
   "execution_count": 2,
   "metadata": {},
   "outputs": [],
   "source": [
    "label = \"COVID-19\""
   ]
  },
  {
   "cell_type": "code",
   "execution_count": 3,
   "metadata": {},
   "outputs": [],
   "source": [
    "_,counts = np.unique(data[label],return_counts=True)"
   ]
  },
  {
   "cell_type": "code",
   "execution_count": 4,
   "metadata": {},
   "outputs": [],
   "source": [
    "probs = counts/len(label)"
   ]
  },
  {
   "cell_type": "code",
   "execution_count": 5,
   "metadata": {},
   "outputs": [
    {
     "data": {
      "text/plain": [
       "Index(['Breathing Problem', 'Fever', 'Dry Cough', 'Sore throat',\n",
       "       'Running Nose', 'Asthma', 'Chronic Lung Disease', 'Headache',\n",
       "       'Heart Disease', 'Diabetes', 'Hyper Tension', 'Fatigue ',\n",
       "       'Gastrointestinal ', 'Abroad travel', 'Contact with COVID Patient',\n",
       "       'Attended Large Gathering', 'Visited Public Exposed Places',\n",
       "       'Family working in Public Exposed Places', 'Wearing Masks',\n",
       "       'Sanitization from Market'],\n",
       "      dtype='object')"
      ]
     },
     "execution_count": 5,
     "metadata": {},
     "output_type": "execute_result"
    }
   ],
   "source": [
    "data.columns[:-1]"
   ]
  },
  {
   "cell_type": "code",
   "execution_count": 6,
   "metadata": {},
   "outputs": [],
   "source": [
    "def entropy(labels):\n",
    "    _,counts = np.unique(labels,return_counts=True)\n",
    "    probs = counts/len(labels)\n",
    "    return -np.sum(probs * np.log2(probs))"
   ]
  },
  {
   "cell_type": "code",
   "execution_count": 7,
   "metadata": {},
   "outputs": [],
   "source": [
    "def information_gain(data,feature,label):\n",
    "    feature_entropy = 0\n",
    "    print(\"***************\")\n",
    "    print(feature)\n",
    "    for value in data[feature].unique():\n",
    "        subset = data[data[feature]==value]\n",
    "        proportion = len(subset)/len(data)\n",
    "        feature_entropy = proportion* (entropy(subset[label]))\n",
    "        return entropy(data[label]) - feature_entropy"
   ]
  },
  {
   "cell_type": "code",
   "execution_count": 8,
   "metadata": {},
   "outputs": [
    {
     "name": "stdout",
     "output_type": "stream",
     "text": [
      "***************\n",
      "Breathing Problem\n",
      "***************\n",
      "Fever\n",
      "***************\n",
      "Dry Cough\n",
      "***************\n",
      "Sore throat\n",
      "***************\n",
      "Running Nose\n",
      "***************\n",
      "Asthma\n",
      "***************\n",
      "Chronic Lung Disease\n",
      "***************\n",
      "Headache\n",
      "***************\n",
      "Heart Disease\n",
      "***************\n",
      "Diabetes\n",
      "***************\n",
      "Hyper Tension\n",
      "***************\n",
      "Fatigue \n",
      "***************\n",
      "Gastrointestinal \n",
      "***************\n",
      "Abroad travel\n",
      "***************\n",
      "Contact with COVID Patient\n",
      "***************\n",
      "Attended Large Gathering\n",
      "***************\n",
      "Visited Public Exposed Places\n",
      "***************\n",
      "Family working in Public Exposed Places\n",
      "***************\n",
      "Wearing Masks\n",
      "***************\n",
      "Sanitization from Market\n"
     ]
    }
   ],
   "source": [
    "for feature in data.columns[:-1]:\n",
    "    entropy_feature = 0\n",
    "    for value in data[feature].unique():\n",
    "        subset = data[data[feature]==value]\n",
    "        proportion = len(subset)/len(data)\n",
    "        entropy_feature += proportion * entropy(subset[label])\n",
    "    info_gain  = information_gain(data,feature,label)"
   ]
  },
  {
   "cell_type": "code",
   "execution_count": null,
   "metadata": {},
   "outputs": [],
   "source": []
  },
  {
   "cell_type": "code",
   "execution_count": null,
   "metadata": {},
   "outputs": [],
   "source": []
  },
  {
   "cell_type": "code",
   "execution_count": 9,
   "metadata": {},
   "outputs": [],
   "source": [
    "# def information_gain(data,feature,label):\n",
    "#     feature_entropy = 0\n",
    "#     print(\"************************\")\n",
    "#     print(feature)\n",
    "#     for value in data[feature].unique():\n",
    "#         print(\"------------------------------\")\n",
    "#         print(data)\n",
    "#         print(data[feature==value])\n",
    "#         subset = data[data[feature]==value].unique()\n",
    "#         proportion = len(subset)/len(data)\n",
    "#         feature_entropy = proportion(entropy(subset[label]))\n",
    "#         return entropy(data[label]) - feature_entropy\n",
    "\n"
   ]
  },
  {
   "cell_type": "code",
   "execution_count": 10,
   "metadata": {},
   "outputs": [],
   "source": [
    "def _build_tree(data,label,parent=None,edge_label=None):\n",
    "    if len(data[label].unique()) == 1:\n",
    "        value = data[label].unique()[0]\n",
    "        return str(value)\n",
    "    elif len(data.columns) == 1:\n",
    "        value = data[label].value_counts().idmax()\n",
    "        return str(value)\n",
    "    else:\n",
    "        best_features =  max(data.columns[:-1], key = lambda feature: information_gain(data,feature,label)) \n",
    "        tree = {best_feature:{}}\n",
    "        for value in best_feature.unique():\n",
    "            subset = data[data[best_feature]==value]\n",
    "            tree[best_feature][value] = _build_tree(subset.drop(best_feature,axis=1),label,best_feature,value)\n",
    "        return tree"
   ]
  },
  {
   "cell_type": "code",
   "execution_count": 11,
   "metadata": {},
   "outputs": [],
   "source": [
    "def build_tree(self):\n",
    "    return self._build_tree(self.data,self.labels)"
   ]
  },
  {
   "cell_type": "code",
   "execution_count": 12,
   "metadata": {},
   "outputs": [],
   "source": [
    "from decision_tree import Decision_Tree"
   ]
  },
  {
   "cell_type": "code",
   "execution_count": 13,
   "metadata": {},
   "outputs": [],
   "source": [
    "dt = Decision_Tree(data,label)"
   ]
  },
  {
   "cell_type": "code",
   "execution_count": 14,
   "metadata": {},
   "outputs": [],
   "source": [
    "tree = dt.build_tree()"
   ]
  },
  {
   "cell_type": "code",
   "execution_count": 15,
   "metadata": {},
   "outputs": [],
   "source": [
    "node = tree\n"
   ]
  },
  {
   "cell_type": "code",
   "execution_count": 16,
   "metadata": {},
   "outputs": [],
   "source": [
    "# max(data.columns[:-1],key=lambda feature: information_gain(data,feature,label))"
   ]
  },
  {
   "cell_type": "code",
   "execution_count": 17,
   "metadata": {},
   "outputs": [],
   "source": [
    "# data.columns[:-1]"
   ]
  },
  {
   "cell_type": "code",
   "execution_count": 18,
   "metadata": {},
   "outputs": [],
   "source": [
    "# dt = Decision_Tree(data,label)"
   ]
  },
  {
   "cell_type": "code",
   "execution_count": 19,
   "metadata": {},
   "outputs": [],
   "source": [
    "# dt.build_tree()"
   ]
  },
  {
   "cell_type": "code",
   "execution_count": 20,
   "metadata": {},
   "outputs": [],
   "source": [
    "Questions = {   'Breathing Problem': 'Do you have any symptoms related to respiratory issues?',\n",
    "                'Fever':'Have you experienced a fever recently?', \n",
    "                'Dry Cough':'Do you have a dry cough?', \n",
    "                'Sore throat':'Are you currently experiencing a sore throat?',\n",
    "                'Running Nose':'Have you been dealing with a running nose?', \n",
    "                'Asthma':'Do you have a history of asthma?',\n",
    "                'Chronic Lung Disease':'Have you been diagnosed with any chronic lung disease?',\n",
    "                'Headache':'Have you been experiencing headaches lately?',\n",
    "                'Heart Disease':'Do you have any heart disease or related conditions?',\n",
    "                'Diabetes':'Have you been diagnosed with diabetes?',\n",
    "                'Hyper Tension':'Do you have high blood pressure or hypertension?',\n",
    "                'Fatigue':'Have you been feeling fatigued?',\n",
    "                'Gastrointestinal': 'Have you experienced any gastrointestinal symptoms?',\n",
    "                'Abroad travel':'Have you traveled abroad recently?', \n",
    "                'Contact with COVID Patient': 'Have you come into contact with someone who has been diagnosed with COVID-19?',\n",
    "                'Attended Large Gathering': 'Have you attended any large gatherings recently?',\n",
    "                'Visited Public Exposed Places':'Have you visited any public exposed places recently?', \n",
    "                'Family working in Public Exposed Places':'Does any member of your family work in public exposed places?', \n",
    "                'Wearing Masks':'Are you consistently wearing masks in public?',\n",
    "                'Sanitization from Market':'Are you regularly sanitizing yourself and your belongings after visiting markets?'}"
   ]
  },
  {
   "cell_type": "code",
   "execution_count": 21,
   "metadata": {},
   "outputs": [],
   "source": [
    "QnA = {\n",
    "    \"hello\": \"Hello, how can I help you?\",\n",
    "    \"hi\": \"Hello, how can I help you?\",\n",
    "    \"good morning\": \"Hello, how can I help you?\",\n",
    "    \"good day\": \"Hello, how can I help you?\",\n",
    "    \"hey\": \"Hello, how can I help you?\",\n",
    "    \"is breathing problems a symptom of covid?\": \"Yes, having breathing problems can be a symptom of covid, if you want to test yourself for covid, let me know by asking me *Do I have covid?*\",\n",
    "    \"does travelling abroad cause covid?\": \"Travelling abroad will almost certainly infect you with covid, if you need to test yourself for covid, ask me *Do I have corona?*\",\n",
    "    \"what is coronavirus?\": \"Coronaviruses are a family of viruses that typically cause mild respiratory infections like the common cold but also more severe (and potentially deadly) infections. They are zoonotic diseases, meaning they are transmitted from animals to people.\",\n",
    "    \"what diseases are caused by coronavirus\": \"A coronavirus that originated in China led to the Severe Acute Respiratory Syndrome (SARS) outbreak in 2003. Another coronavirus emerged in 2012 in Saudi Arabia, causing Middle East Respiratory Syndrome (MERS)\",\n",
    "    \"why does coronavirus cause shortness of breath?\": \"COVID-19 can cause damage to the lungs that impedes their ability to remove oxygen from the air. A lot of patients develop what’s known as severe acute respiratory distress syndrome. And they really benefit from having additional oxygen, particularly in hospital settings.\",\n",
    "    \"why and how should i seek medical attention?\": \"If you develop any of the following emergency warning signs for COVID-19, get medical attention immediately by calling your doctor's office. Emergency warning signs include (but are not limited to): Troubled breathing, Presistent pain in the chest, Confusion, Bluish lips or face.\",\n",
    "    \"how does the virus spread?\": \"The virus that causes COVID-19 is thought to spread mainly from person to person, mainly through respiratory droplets produced when an infected person coughs, sneezes, or talks. These droplets can land in the mouths or noses of people who are nearby or possibly be inhaled into the lungs. Spread is more likely when people are in close contact with one another (within about 6 feet).\",\n",
    "    \"who are you?\": \"I am the coronavirus chatbot, I can answer your questions related to coronavirus.\\nI can also check you to see if you have covid, just say *start assessment*.\",\n",
    "    \"ok\": \"Do you need anything else?\",\n",
    "    \"i want to ask you a question\": \"Sure, go ahead. I'll answer the best I can.\",\n",
    "    \"is fever a symptom of covid?\": \"Yes, having a fever can be a symptom of coronavirus.\\nIf you say *start assessment*, I can help you figure out if you have corona or not.\",\n",
    "    \"thank you\": \"I'm happy to help.\",\n",
    "    \"thanks\": \"Happy I could help.\",\n",
    "    \"thx\": \"I'm glad I could help you.\"\n",
    "       }"
   ]
  },
  {
   "cell_type": "code",
   "execution_count": 22,
   "metadata": {},
   "outputs": [],
   "source": [
    "def get_answer(msg):\n",
    "    msg = msg.lower()\n",
    "    no = [\n",
    "    \"nah\",\n",
    "    \"nay\",\n",
    "    \"negative\",\n",
    "    \"not\",\n",
    "    \"nope\",\n",
    "    \"nix\",\n",
    "    \"refusal\",\n",
    "    \"denial\",\n",
    "    \"decline\",\n",
    "    \"rejection\",\n",
    "    \"dissent\",\n",
    "    \"prohibition\",\n",
    "    \"forbidden\",\n",
    "    \"disallow\",\n",
    "    \"disapprove\",\n",
    "    \"oppose\",\n",
    "    \"reject\",\n",
    "    \"disagree\",\n",
    "    \"turn down\",\n",
    "    \"no\",\n",
    "    \"don't\",\n",
    "    \"havn't\",\n",
    "    \"never\",\n",
    "]\n",
    "    yes = [\n",
    "    \"yeah\",\n",
    "    \"yup\",\n",
    "    \"affirmative\",\n",
    "    \"absolutely\",\n",
    "    \"indeed\",\n",
    "    \"certainly\",\n",
    "    \"definitely\",\n",
    "    \"sure\",\n",
    "    \"of course\",\n",
    "    \"ofcourse\",\n",
    "    \"agreed\",\n",
    "    \"positive\",\n",
    "    \"aye\",\n",
    "    \"ok\",\n",
    "    \"okay\",\n",
    "    \"roger\",\n",
    "    \"right\",\n",
    "    \"correct\",\n",
    "    \"you bet\",\n",
    "    \"absolutely\",\n",
    "    \"naturally\",\n",
    "    \"yes\",\n",
    "    \"ya\",\n",
    "    \"mhm\",\n",
    "    \"maybe\",\n",
    "    \"perhaps\",\n",
    "    \"probably\",\n",
    "    \"possibily\",\n",
    "    \"have\"\n",
    "]\n",
    "    for word in yes:\n",
    "        if word in msg:\n",
    "            return 'Yes'\n",
    "    for word in no:\n",
    "        if word in msg:\n",
    "            return 'No'\n",
    "        \n",
    "    return 'unknown'"
   ]
  },
  {
   "cell_type": "code",
   "execution_count": 23,
   "metadata": {},
   "outputs": [],
   "source": [
    "def get_question():\n",
    "    global node\n",
    "    if type(node) != str:\n",
    "        for key, value in node.items():\n",
    "            display_message(Questions[key], \"received\")\n",
    "            node = node[key]\n",
    "    else:\n",
    "        entry.configure(state=tk.DISABLED)\n",
    "        send_button.configure(state=tk.DISABLED)\n",
    "        if node == \"Yes\":\n",
    "            display_message(\"I'm really sorry to inform that you've been affected by COVID-19.\", \"received\")\n",
    "        else:\n",
    "            display_message(\"Congratulations, you are not affected by COVID-19.\", \"received\")"
   ]
  },
  {
   "cell_type": "code",
   "execution_count": 24,
   "metadata": {},
   "outputs": [],
   "source": [
    "def logic(msg):\n",
    "    global node\n",
    "    if msg == '':\n",
    "        return\n",
    "    ans = get_answer(msg)\n",
    "\n",
    "    if ans == 'unknown':\n",
    "        display_message('Sorry, I can\\'t understand you.', 'received')\n",
    "        return\n",
    "            \n",
    "    node = node[ans]"
   ]
  },
  {
   "cell_type": "code",
   "execution_count": 25,
   "metadata": {},
   "outputs": [],
   "source": [
    "assessment = False"
   ]
  },
  {
   "cell_type": "code",
   "execution_count": 26,
   "metadata": {},
   "outputs": [],
   "source": [
    "def send_message(event=None):\n",
    "    global assessment, QnA\n",
    "    msg = entry.get()\n",
    "    display_message(\"You: \" + msg, \"sent\")\n",
    "    if msg == \"start assessment\" or msg == \"do i have corona?\" or msg == \"do i have covid?\":\n",
    "        assessment = True\n",
    "        get_question()\n",
    "    elif assessment == True:\n",
    "        logic(msg)\n",
    "        get_question()\n",
    "    else:\n",
    "        if msg in QnA:\n",
    "            display_message(QnA[msg], \"received\")\n",
    "        else:\n",
    "            display_message(\"Sorry, I don't understand you.\", \"received\")"
   ]
  },
  {
   "cell_type": "code",
   "execution_count": 27,
   "metadata": {},
   "outputs": [],
   "source": [
    "def display_message(message, message_type):\n",
    "    chat_window.configure(state=tk.NORMAL)\n",
    "    chat_window.tag_config(\"sent\", foreground=\"#000000\", justify=\"right\")\n",
    "    chat_window.tag_config(\"received\", foreground=\"#0000FF\", justify=\"left\")\n",
    "\n",
    "    if chat_window.get(\"1.0\", tk.END).strip():\n",
    "        chat_window.insert(tk.END, \"\\n\\n\")\n",
    "    \n",
    "    if message_type == \"sent\":\n",
    "        chat_window.insert(tk.END, message, message_type)\n",
    "    elif message_type == \"received\":\n",
    "        chat_window.insert(tk.END, message, message_type)\n",
    "\n",
    "    chat_window.see(tk.END)\n",
    "    chat_window.configure(state=tk.DISABLED)\n",
    "    entry.delete(0, tk.END)"
   ]
  },
  {
   "cell_type": "code",
   "execution_count": 28,
   "metadata": {},
   "outputs": [],
   "source": [
    "import tkinter as tk\n",
    "from tkinter import  ttk"
   ]
  },
  {
   "cell_type": "code",
   "execution_count": 29,
   "metadata": {},
   "outputs": [],
   "source": [
    "window = tk.Tk()"
   ]
  },
  {
   "cell_type": "code",
   "execution_count": 30,
   "metadata": {},
   "outputs": [
    {
     "data": {
      "text/plain": [
       "''"
      ]
     },
     "execution_count": 30,
     "metadata": {},
     "output_type": "execute_result"
    }
   ],
   "source": [
    "window.title(\"COVID-19 Chatbot\")"
   ]
  },
  {
   "cell_type": "code",
   "execution_count": 31,
   "metadata": {},
   "outputs": [
    {
     "data": {
      "text/plain": [
       "''"
      ]
     },
     "execution_count": 31,
     "metadata": {},
     "output_type": "execute_result"
    }
   ],
   "source": [
    "window.geometry(\"800x800\")"
   ]
  },
  {
   "cell_type": "code",
   "execution_count": 32,
   "metadata": {},
   "outputs": [],
   "source": [
    "style = ttk.Style()"
   ]
  },
  {
   "cell_type": "code",
   "execution_count": 33,
   "metadata": {},
   "outputs": [],
   "source": [
    "style.configure(\"TFrame\", background=\"#000047\")\n",
    "style.configure(\"TButton\", background=\"darkblue\", foreground=\"darkblue\", font=(\"Arial\", 18, \"bold\"))\n",
    "style.configure(\"TLabel\", background=\"darkblue\", font=(\"Arial\", 18))\n",
    "style.configure(\"TEntry\", font=(\"Arial\", 18))\n"
   ]
  },
  {
   "cell_type": "code",
   "execution_count": 34,
   "metadata": {},
   "outputs": [],
   "source": [
    "chat_frame = ttk.Frame(window, padding=10, style=\"TFrame\")\n",
    "chat_frame.pack(fill=tk.BOTH, expand=True)\n"
   ]
  },
  {
   "cell_type": "code",
   "execution_count": 35,
   "metadata": {},
   "outputs": [],
   "source": [
    "chat_window = tk.Text(chat_frame, state=tk.DISABLED, background=\"white\", font=(\"Arial\", 18))\n",
    "chat_window.pack(fill=tk.BOTH, expand=True)"
   ]
  },
  {
   "cell_type": "code",
   "execution_count": 36,
   "metadata": {},
   "outputs": [],
   "source": [
    "entry_frame = ttk.Frame(window, padding=10, style=\"TFrame\")\n",
    "entry_frame.pack(fill=tk.X)\n"
   ]
  },
  {
   "cell_type": "code",
   "execution_count": 37,
   "metadata": {},
   "outputs": [
    {
     "data": {
      "text/plain": [
       "'2170666515072send_message'"
      ]
     },
     "execution_count": 37,
     "metadata": {},
     "output_type": "execute_result"
    }
   ],
   "source": [
    "entry = ttk.Entry(entry_frame, font=(\"Arial\", 18))\n",
    "entry.pack(side=tk.LEFT, fill=tk.X, expand=True)\n",
    "entry.bind(\"<Return>\", send_message)"
   ]
  },
  {
   "cell_type": "code",
   "execution_count": 38,
   "metadata": {},
   "outputs": [],
   "source": [
    "send_button = ttk.Button(entry_frame, text=\"Send\", command=send_message)\n",
    "send_button.pack(side=tk.RIGHT)"
   ]
  },
  {
   "cell_type": "code",
   "execution_count": 39,
   "metadata": {},
   "outputs": [],
   "source": [
    "display_message(\"hello, how can i help you?\", \"recived\")\n"
   ]
  },
  {
   "cell_type": "code",
   "execution_count": 40,
   "metadata": {},
   "outputs": [],
   "source": [
    "window.mainloop()"
   ]
  },
  {
   "cell_type": "code",
   "execution_count": null,
   "metadata": {},
   "outputs": [],
   "source": [
    "\n"
   ]
  },
  {
   "cell_type": "code",
   "execution_count": null,
   "metadata": {},
   "outputs": [],
   "source": []
  }
 ],
 "metadata": {
  "kernelspec": {
   "display_name": "Python 3",
   "language": "python",
   "name": "python3"
  },
  "language_info": {
   "codemirror_mode": {
    "name": "ipython",
    "version": 3
   },
   "file_extension": ".py",
   "mimetype": "text/x-python",
   "name": "python",
   "nbconvert_exporter": "python",
   "pygments_lexer": "ipython3",
   "version": "3.10.0"
  }
 },
 "nbformat": 4,
 "nbformat_minor": 2
}
