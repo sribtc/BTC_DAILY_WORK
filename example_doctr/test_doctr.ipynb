{
 "cells": [
  {
   "cell_type": "code",
   "execution_count": 2,
   "metadata": {},
   "outputs": [],
   "source": [
    "import json\n",
    "import yaml\n",
    "import fitz"
   ]
  },
  {
   "cell_type": "code",
   "execution_count": 3,
   "metadata": {},
   "outputs": [
    {
     "name": "stderr",
     "output_type": "stream",
     "text": [
      "c:\\ProgramData\\anaconda3\\lib\\site-packages\\tensorflow_addons\\utils\\tfa_eol_msg.py:23: UserWarning: \n",
      "\n",
      "TensorFlow Addons (TFA) has ended development and introduction of new features.\n",
      "TFA has entered a minimal maintenance and release mode until a planned end of life in May 2024.\n",
      "Please modify downstream libraries to take dependencies from other repositories in our TensorFlow community (e.g. Keras, Keras-CV, and Keras-NLP). \n",
      "\n",
      "For more information see: https://github.com/tensorflow/addons/issues/2807 \n",
      "\n",
      "  warnings.warn(\n"
     ]
    }
   ],
   "source": [
    "from doctr.models import ocr_predictor\n",
    "model = ocr_predictor(det_arch=\"db_resnet50\",reco_arch=\"crnn_vgg16_bn\",pretrained=True)"
   ]
  },
  {
   "cell_type": "code",
   "execution_count": 4,
   "metadata": {},
   "outputs": [],
   "source": [
    "from doctr.io import DocumentFile\n",
    "pdf_doc = DocumentFile.from_pdf('../../Downloads/021813s000_SumR.pdf')"
   ]
  },
  {
   "cell_type": "code",
   "execution_count": 5,
   "metadata": {},
   "outputs": [],
   "source": [
    "result = model(pdf_doc)"
   ]
  },
  {
   "cell_type": "code",
   "execution_count": 6,
   "metadata": {},
   "outputs": [],
   "source": [
    "output = result.export()"
   ]
  },
  {
   "cell_type": "code",
   "execution_count": 18,
   "metadata": {},
   "outputs": [],
   "source": [
    "# import json\n",
    "# with open('../../Downloads/DOC_TR_OUT1.json','w') as file:\n",
    "#     file.write(json.dumps(output,indent=1))\n"
   ]
  },
  {
   "cell_type": "code",
   "execution_count": 7,
   "metadata": {},
   "outputs": [],
   "source": [
    "with open('../../Downloads/DOC_TR_OUT1.json','r') as file:\n",
    "    res_json  = json.load(file)"
   ]
  },
  {
   "cell_type": "code",
   "execution_count": 21,
   "metadata": {},
   "outputs": [
    {
     "data": {
      "text/plain": [
       "1"
      ]
     },
     "execution_count": 21,
     "metadata": {},
     "output_type": "execute_result"
    }
   ],
   "source": [
    "# len(res_json)"
   ]
  },
  {
   "cell_type": "code",
   "execution_count": 25,
   "metadata": {},
   "outputs": [],
   "source": [
    "# no_of_paegs = len(res_json['pages'])"
   ]
  },
  {
   "cell_type": "code",
   "execution_count": 28,
   "metadata": {},
   "outputs": [],
   "source": [
    "# page_idx_1  = res_json['pages'][1]"
   ]
  },
  {
   "cell_type": "code",
   "execution_count": 41,
   "metadata": {},
   "outputs": [
    {
     "name": "stdout",
     "output_type": "stream",
     "text": [
      "0\n",
      "[1584, 1224]\n",
      "[{'geometry': [[0.173828125, 0.0693359375], [0.86328125, 0.09375]], 'lines': [{'geometry': [[0.173828125, 0.0693359375], [0.86328125, 0.09375]], 'words': [{'value': 'CENTER', 'confidence': 0.9995423555374146, 'geometry': [[0.173828125, 0.0712890625], [0.322265625, 0.091796875]]}, {'value': 'FOR', 'confidence': 0.9999570846557617, 'geometry': [[0.330078125, 0.0693359375], [0.4111328125, 0.09375]]}, {'value': 'DRUG', 'confidence': 0.9995051622390747, 'geometry': [[0.4169921875, 0.0712890625], [0.5283203125, 0.0927734375]]}, {'value': 'EVALUATION', 'confidence': 0.9956958889961243, 'geometry': [[0.5283203125, 0.0712890625], [0.7763671875, 0.091796875]]}, {'value': 'AND', 'confidence': 0.9962904453277588, 'geometry': [[0.7841796875, 0.0712890625], [0.86328125, 0.0927734375]]}]}], 'artefacts': []}, {'geometry': [[0.41796875, 0.103515625], [0.6171875, 0.1240234375]], 'lines': [{'geometry': [[0.41796875, 0.103515625], [0.6171875, 0.1240234375]], 'words': [{'value': 'RESEARCH', 'confidence': 0.9433057308197021, 'geometry': [[0.41796875, 0.103515625], [0.6171875, 0.1240234375]]}]}], 'artefacts': []}, {'geometry': [[0.34375, 0.2890625], [0.6884765625, 0.3095703125]], 'lines': [{'geometry': [[0.34375, 0.2890625], [0.6884765625, 0.3095703125]], 'words': [{'value': 'APPLICATIONNUMBER:', 'confidence': 0.5187944173812866, 'geometry': [[0.34375, 0.2890625], [0.6884765625, 0.3095703125]]}]}], 'artefacts': []}, {'geometry': [[0.45703125, 0.318359375], [0.576171875, 0.34375]], 'lines': [{'geometry': [[0.45703125, 0.318359375], [0.576171875, 0.34375]], 'words': [{'value': '21-813', 'confidence': 0.982289731502533, 'geometry': [[0.45703125, 0.318359375], [0.576171875, 0.34375]]}]}], 'artefacts': []}, {'geometry': [[0.328125, 0.4609375], [0.708984375, 0.482421875]], 'lines': [{'geometry': [[0.328125, 0.4609375], [0.708984375, 0.482421875]], 'words': [{'value': 'SUMMARY', 'confidence': 0.5091371536254883, 'geometry': [[0.328125, 0.4609375], [0.537109375, 0.482421875]]}, {'value': 'REVIEW', 'confidence': 0.9914049506187439, 'geometry': [[0.5458984375, 0.4609375], [0.708984375, 0.482421875]]}]}], 'artefacts': []}]\n",
      "[{'geometry': [[0.173828125, 0.0693359375], [0.86328125, 0.09375]], 'lines': [{'geometry': [[0.173828125, 0.0693359375], [0.86328125, 0.09375]], 'words': [{'value': 'CENTER', 'confidence': 0.9995423555374146, 'geometry': [[0.173828125, 0.0712890625], [0.322265625, 0.091796875]]}, {'value': 'FOR', 'confidence': 0.9999570846557617, 'geometry': [[0.330078125, 0.0693359375], [0.4111328125, 0.09375]]}, {'value': 'DRUG', 'confidence': 0.9995051622390747, 'geometry': [[0.4169921875, 0.0712890625], [0.5283203125, 0.0927734375]]}, {'value': 'EVALUATION', 'confidence': 0.9956958889961243, 'geometry': [[0.5283203125, 0.0712890625], [0.7763671875, 0.091796875]]}, {'value': 'AND', 'confidence': 0.9962904453277588, 'geometry': [[0.7841796875, 0.0712890625], [0.86328125, 0.0927734375]]}]}], 'artefacts': []}, {'geometry': [[0.41796875, 0.103515625], [0.6171875, 0.1240234375]], 'lines': [{'geometry': [[0.41796875, 0.103515625], [0.6171875, 0.1240234375]], 'words': [{'value': 'RESEARCH', 'confidence': 0.9433057308197021, 'geometry': [[0.41796875, 0.103515625], [0.6171875, 0.1240234375]]}]}], 'artefacts': []}, {'geometry': [[0.34375, 0.2890625], [0.6884765625, 0.3095703125]], 'lines': [{'geometry': [[0.34375, 0.2890625], [0.6884765625, 0.3095703125]], 'words': [{'value': 'APPLICATIONNUMBER:', 'confidence': 0.5187944173812866, 'geometry': [[0.34375, 0.2890625], [0.6884765625, 0.3095703125]]}]}], 'artefacts': []}, {'geometry': [[0.45703125, 0.318359375], [0.576171875, 0.34375]], 'lines': [{'geometry': [[0.45703125, 0.318359375], [0.576171875, 0.34375]], 'words': [{'value': '21-813', 'confidence': 0.982289731502533, 'geometry': [[0.45703125, 0.318359375], [0.576171875, 0.34375]]}]}], 'artefacts': []}, {'geometry': [[0.328125, 0.4609375], [0.708984375, 0.482421875]], 'lines': [{'geometry': [[0.328125, 0.4609375], [0.708984375, 0.482421875]], 'words': [{'value': 'SUMMARY', 'confidence': 0.5091371536254883, 'geometry': [[0.328125, 0.4609375], [0.537109375, 0.482421875]]}, {'value': 'REVIEW', 'confidence': 0.9914049506187439, 'geometry': [[0.5458984375, 0.4609375], [0.708984375, 0.482421875]]}]}], 'artefacts': []}]\n",
      "no of blocks 5\n",
      "{'geometry': [[0.173828125, 0.0693359375], [0.86328125, 0.09375]], 'lines': [{'geometry': [[0.173828125, 0.0693359375], [0.86328125, 0.09375]], 'words': [{'value': 'CENTER', 'confidence': 0.9995423555374146, 'geometry': [[0.173828125, 0.0712890625], [0.322265625, 0.091796875]]}, {'value': 'FOR', 'confidence': 0.9999570846557617, 'geometry': [[0.330078125, 0.0693359375], [0.4111328125, 0.09375]]}, {'value': 'DRUG', 'confidence': 0.9995051622390747, 'geometry': [[0.4169921875, 0.0712890625], [0.5283203125, 0.0927734375]]}, {'value': 'EVALUATION', 'confidence': 0.9956958889961243, 'geometry': [[0.5283203125, 0.0712890625], [0.7763671875, 0.091796875]]}, {'value': 'AND', 'confidence': 0.9962904453277588, 'geometry': [[0.7841796875, 0.0712890625], [0.86328125, 0.0927734375]]}]}], 'artefacts': []}\n",
      "[{'geometry': [[0.173828125, 0.0693359375], [0.86328125, 0.09375]], 'words': [{'value': 'CENTER', 'confidence': 0.9995423555374146, 'geometry': [[0.173828125, 0.0712890625], [0.322265625, 0.091796875]]}, {'value': 'FOR', 'confidence': 0.9999570846557617, 'geometry': [[0.330078125, 0.0693359375], [0.4111328125, 0.09375]]}, {'value': 'DRUG', 'confidence': 0.9995051622390747, 'geometry': [[0.4169921875, 0.0712890625], [0.5283203125, 0.0927734375]]}, {'value': 'EVALUATION', 'confidence': 0.9956958889961243, 'geometry': [[0.5283203125, 0.0712890625], [0.7763671875, 0.091796875]]}, {'value': 'AND', 'confidence': 0.9962904453277588, 'geometry': [[0.7841796875, 0.0712890625], [0.86328125, 0.0927734375]]}]}]\n",
      "no of lines 1\n",
      "{'geometry': [[0.173828125, 0.0693359375], [0.86328125, 0.09375]], 'words': [{'value': 'CENTER', 'confidence': 0.9995423555374146, 'geometry': [[0.173828125, 0.0712890625], [0.322265625, 0.091796875]]}, {'value': 'FOR', 'confidence': 0.9999570846557617, 'geometry': [[0.330078125, 0.0693359375], [0.4111328125, 0.09375]]}, {'value': 'DRUG', 'confidence': 0.9995051622390747, 'geometry': [[0.4169921875, 0.0712890625], [0.5283203125, 0.0927734375]]}, {'value': 'EVALUATION', 'confidence': 0.9956958889961243, 'geometry': [[0.5283203125, 0.0712890625], [0.7763671875, 0.091796875]]}, {'value': 'AND', 'confidence': 0.9962904453277588, 'geometry': [[0.7841796875, 0.0712890625], [0.86328125, 0.0927734375]]}]}\n",
      "[{'value': 'CENTER', 'confidence': 0.9995423555374146, 'geometry': [[0.173828125, 0.0712890625], [0.322265625, 0.091796875]]}, {'value': 'FOR', 'confidence': 0.9999570846557617, 'geometry': [[0.330078125, 0.0693359375], [0.4111328125, 0.09375]]}, {'value': 'DRUG', 'confidence': 0.9995051622390747, 'geometry': [[0.4169921875, 0.0712890625], [0.5283203125, 0.0927734375]]}, {'value': 'EVALUATION', 'confidence': 0.9956958889961243, 'geometry': [[0.5283203125, 0.0712890625], [0.7763671875, 0.091796875]]}, {'value': 'AND', 'confidence': 0.9962904453277588, 'geometry': [[0.7841796875, 0.0712890625], [0.86328125, 0.0927734375]]}]\n",
      "no of words 5\n",
      "{'value': 'CENTER', 'confidence': 0.9995423555374146, 'geometry': [[0.173828125, 0.0712890625], [0.322265625, 0.091796875]]}\n"
     ]
    }
   ],
   "source": [
    "# for page in res_json['pages']:\n",
    "#     print(page['page_idx'])\n",
    "#     print(page['dimensions'])\n",
    "#     print(page['blocks'])\n",
    "#     print(page['blocks'])\n",
    "#     print(\"no of blocks %d\" %(len(page['blocks'])))\n",
    "#     print(page['blocks'][0])\n",
    "#     print(page['blocks'][0]['lines'])\n",
    "#     print(\"no of lines %d\" %(len(page['blocks'][0]['lines'])))\n",
    "#     print(page['blocks'][0]['lines'][0])\n",
    "#     print(page['blocks'][0]['lines'][0]['words'])\n",
    "#     print(\"no of words %d\" %(len(page['blocks'][0]['lines'][0]['words'])))\n",
    "#     print(page['blocks'][0]['lines'][0]['words'][0])\n",
    "#     break"
   ]
  },
  {
   "cell_type": "code",
   "execution_count": 8,
   "metadata": {},
   "outputs": [],
   "source": [
    "page_coordinates = {}\n",
    "for page in res_json['pages']:\n",
    "    page_idx = page['page_idx']\n",
    "    for block_idx,block in enumerate(page['blocks']):\n",
    "        block_idx = block_idx\n",
    "        for line_idx,lines in enumerate(block['lines']):\n",
    "            line_idx = line_idx\n",
    "            for wrd_idx,word in enumerate(lines['words']):\n",
    "                wrd_idx = wrd_idx\n",
    "                wrd_value = word['value']\n",
    "                wrd_geometry  = word['geometry']\n",
    "                page_coordinates[str((page_idx,block_idx,line_idx,wrd_idx))] = (wrd_geometry,wrd_value)\n",
    "\n",
    "            \n"
   ]
  },
  {
   "cell_type": "code",
   "execution_count": 9,
   "metadata": {},
   "outputs": [],
   "source": [
    "import yaml\n",
    "with open('../../Downloads/page_coordinates.yaml','w') as file:\n",
    "    yaml.safe_dump(page_coordinates,file)"
   ]
  },
  {
   "cell_type": "code",
   "execution_count": 10,
   "metadata": {},
   "outputs": [],
   "source": [
    "import math\n",
    "def scale_coords_to_page_dim(coords,page_dims):\n",
    "    len_x = page_dims[0]\n",
    "    len_y = page_dims[1]\n",
    "\n",
    "    (x_min,y_min) = coords[0]\n",
    "    (x_max,y_max) = coords[1]\n",
    "\n",
    "    scaled_x_min  = math.floor(x_min * len_x)\n",
    "    scaled_y_min = math.floor(y_min * len_y)\n",
    "    scaled_x_max = math.ceil(x_max * len_x)\n",
    "    scaled_y_max = math.ceil(y_max * len_y)\n",
    "\n",
    "    return (scaled_x_min,scaled_y_min,scaled_x_max,scaled_y_max)\n",
    "\n",
    "\n",
    "    "
   ]
  },
  {
   "cell_type": "code",
   "execution_count": 11,
   "metadata": {},
   "outputs": [],
   "source": [
    "scaled_page_coordinates = {}\n",
    "for page in res_json['pages']:\n",
    "    page_idx = page['page_idx']\n",
    "    dimensions = page['dimensions']\n",
    "    for block_idx,block in enumerate(page['blocks']):\n",
    "        block_idx = block_idx\n",
    "        for line_idx,lines in enumerate(block['lines']):\n",
    "            line_idx = line_idx\n",
    "            for wrd_idx,word in enumerate(lines['words']):\n",
    "                wrd_idx = wrd_idx\n",
    "                wrd_value = word['value']\n",
    "                wrd_geometry  = word['geometry']\n",
    "                scaled_coords = scale_coords_to_page_dim(wrd_geometry,dimensions)\n",
    "                scaled_page_coordinates[str((page_idx,block_idx,line_idx,wrd_idx))] = (scaled_coords,wrd_value)"
   ]
  },
  {
   "cell_type": "code",
   "execution_count": 12,
   "metadata": {},
   "outputs": [],
   "source": [
    "\n",
    "import yaml\n",
    "with open('../../Downloads/scaled_page_coordinates.yaml','r') as file:\n",
    "    file = yaml.safe_load(file)"
   ]
  },
  {
   "cell_type": "code",
   "execution_count": 13,
   "metadata": {},
   "outputs": [],
   "source": [
    "import PIL\n",
    "from PIL import ImageDraw\n",
    "import matplotlib.pyplot as plt\n",
    "\n",
    "def draw_bounds(image,bounds):\n",
    "    draw = ImageDraw.Draw(image)\n",
    "    for b in bounds:\n",
    "        p0, p1, p2, p3 = [b[0],b[2]], [b[1],b[2]], \\\n",
    "                         [b[1],b[3]], [b[0],b[3]]\n",
    "        draw.line([*p0,*p1,*p2,*p3,*p0], fill='blue', width=2)\n",
    "    return image"
   ]
  },
  {
   "cell_type": "code",
   "execution_count": 78,
   "metadata": {},
   "outputs": [],
   "source": [
    "file = fitz.open('../../Downloads/021813s000_SumR.pdf')"
   ]
  },
  {
   "cell_type": "code",
   "execution_count": null,
   "metadata": {},
   "outputs": [],
   "source": []
  },
  {
   "cell_type": "code",
   "execution_count": 47,
   "metadata": {},
   "outputs": [
    {
     "name": "stdout",
     "output_type": "stream",
     "text": [
      "page 0 of ../../Downloads/021813s000_SumR.pdf\n",
      "page 1 of ../../Downloads/021813s000_SumR.pdf\n",
      "page 2 of ../../Downloads/021813s000_SumR.pdf\n",
      "page 3 of ../../Downloads/021813s000_SumR.pdf\n",
      "page 4 of ../../Downloads/021813s000_SumR.pdf\n",
      "page 5 of ../../Downloads/021813s000_SumR.pdf\n",
      "page 6 of ../../Downloads/021813s000_SumR.pdf\n",
      "page 7 of ../../Downloads/021813s000_SumR.pdf\n",
      "page 8 of ../../Downloads/021813s000_SumR.pdf\n",
      "page 9 of ../../Downloads/021813s000_SumR.pdf\n",
      "page 10 of ../../Downloads/021813s000_SumR.pdf\n",
      "page 11 of ../../Downloads/021813s000_SumR.pdf\n",
      "page 12 of ../../Downloads/021813s000_SumR.pdf\n"
     ]
    }
   ],
   "source": [
    "for page in file.pages():\n",
    "    print(page)\n",
    "    x_min = math.floor(0.1738281250 * page.rect.width)\n",
    "    y_min = math.floor(0.0712890625 * page.rect.height)\n",
    "    x_max = math.ceil(0.322265625 * page.rect.width)\n",
    "    y_max = math.ceil(0.091796875 * page.rect.height)\n",
    "    r = [x_min,y_min,x_max,y_max]\n",
    "    shape = page.new_shape()\n",
    "    # shape.insert_textbox(r)\n",
    "    # shape.draw_rect((r[0],r[1]),(r[2],r[3]))\n",
    "    shape.draw_rect(r)\n",
    "    shape.finish(color=(0, 0, 1), fill=None)\n",
    "    \n",
    "    shape.commit()\n",
    "\n",
    "    # pix = page.get_pixmap()\n",
    "    # pix.save(f'../../Downloads/page-%i.png' %(page.number))\n",
    "file.save(\"draw_rect_6.pdf\")"
   ]
  },
  {
   "cell_type": "code",
   "execution_count": 48,
   "metadata": {},
   "outputs": [],
   "source": [
    "import yaml\n",
    "with open('../../Downloads/scaled_page_coordinates.yaml','r') as file:\n",
    "    file_yaml = yaml.safe_load(file)"
   ]
  },
  {
   "cell_type": "code",
   "execution_count": 59,
   "metadata": {},
   "outputs": [
    {
     "data": {
      "text/plain": [
       "[[275, 87, 511, 113], 'CENTER']"
      ]
     },
     "execution_count": 59,
     "metadata": {},
     "output_type": "execute_result"
    }
   ],
   "source": [
    "file_yaml['(0, 0, 0, 0)']"
   ]
  },
  {
   "cell_type": "code",
   "execution_count": 58,
   "metadata": {},
   "outputs": [
    {
     "data": {
      "text/plain": [
       "[[275, 87, 511, 113], 'CENTER']"
      ]
     },
     "execution_count": 58,
     "metadata": {},
     "output_type": "execute_result"
    }
   ],
   "source": [
    "file_yaml['(0, 0, 0, 0)']"
   ]
  },
  {
   "cell_type": "code",
   "execution_count": 68,
   "metadata": {},
   "outputs": [],
   "source": [
    "new_keys = [eval(i)[0] for i in list(file_yaml.keys())]"
   ]
  },
  {
   "cell_type": "code",
   "execution_count": 69,
   "metadata": {},
   "outputs": [
    {
     "data": {
      "text/plain": [
       "2893"
      ]
     },
     "execution_count": 69,
     "metadata": {},
     "output_type": "execute_result"
    }
   ],
   "source": [
    "len(new_keys)"
   ]
  },
  {
   "cell_type": "code",
   "execution_count": 72,
   "metadata": {},
   "outputs": [],
   "source": [
    "coords = [li[0] for li in list(file_yaml.values())]"
   ]
  },
  {
   "cell_type": "code",
   "execution_count": 73,
   "metadata": {},
   "outputs": [
    {
     "data": {
      "text/plain": [
       "2893"
      ]
     },
     "execution_count": 73,
     "metadata": {},
     "output_type": "execute_result"
    }
   ],
   "source": [
    "len(coords)"
   ]
  },
  {
   "cell_type": "code",
   "execution_count": 76,
   "metadata": {},
   "outputs": [],
   "source": [
    "new_set_cords = tuple(zip(new_keys,coords))"
   ]
  },
  {
   "cell_type": "code",
   "execution_count": 82,
   "metadata": {},
   "outputs": [],
   "source": [
    "for page in file.pages():\n",
    "    for coord in new_set_cords:\n",
    "        if page.number == coord[0]:\n",
    "            print(coord[1])\n",
    "            x_min = math.floor(coord[1][0] * page.rect.width)\n",
    "            y_min = math.floor(coord[1][1] * page.rect.height)\n",
    "            x_max = math.ceil(coord[1][2] * page.rect.width)\n",
    "            y_max = math.ceil(coord[1][3] * page.rect.height)\n",
    "            r = [x_min,y_min,x_max,y_max]\n",
    "            shape = page.new_shape()\n",
    "            shape.draw_rect(r)\n",
    "            shape.finish(color=(0, 0, 1), fill=None)\n",
    "            shape.commit()\n",
    "\n",
    "file.save(\"draw_rect_7.pdf\")"
   ]
  },
  {
   "cell_type": "code",
   "execution_count": null,
   "metadata": {},
   "outputs": [],
   "source": []
  }
 ],
 "metadata": {
  "kernelspec": {
   "display_name": "base",
   "language": "python",
   "name": "python3"
  },
  "language_info": {
   "codemirror_mode": {
    "name": "ipython",
    "version": 3
   },
   "file_extension": ".py",
   "mimetype": "text/x-python",
   "name": "python",
   "nbconvert_exporter": "python",
   "pygments_lexer": "ipython3",
   "version": "3.10.9"
  },
  "orig_nbformat": 4
 },
 "nbformat": 4,
 "nbformat_minor": 2
}
